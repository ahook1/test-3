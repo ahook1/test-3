{
 "cells": [
  {
   "cell_type": "markdown",
   "id": "a3044e02",
   "metadata": {},
   "source": [
    "***\n",
    "Test Notebook for Alex Hook"
   ]
  },
  {
   "cell_type": "code",
   "execution_count": 4,
   "id": "1e5c0796",
   "metadata": {},
   "outputs": [
    {
     "name": "stdout",
     "output_type": "stream",
     "text": [
      "Hello Alex Hook!\n"
     ]
    }
   ],
   "source": [
    "print('Hello Alex Hook!')"
   ]
  }
 ],
 "metadata": {
  "kernelspec": {
   "display_name": "qpy_23_0_7",
   "language": "python",
   "name": "python3"
  },
  "language_info": {
   "codemirror_mode": {
    "name": "ipython",
    "version": 3
   },
   "file_extension": ".py",
   "mimetype": "text/x-python",
   "name": "python",
   "nbconvert_exporter": "python",
   "pygments_lexer": "ipython3",
   "version": "3.13.5"
  }
 },
 "nbformat": 4,
 "nbformat_minor": 5
}
